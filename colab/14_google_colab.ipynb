{
  "nbformat": 4,
  "nbformat_minor": 0,
  "metadata": {
    "colab": {
      "name": "14_google_colab",
      "provenance": [],
      "collapsed_sections": [],
      "toc_visible": true,
      "include_colab_link": true
    },
    "kernelspec": {
      "name": "python3",
      "display_name": "Python 3"
    }
  },
  "cells": [
    {
      "cell_type": "markdown",
      "metadata": {
        "id": "view-in-github",
        "colab_type": "text"
      },
      "source": [
        "<a href=\"https://colab.research.google.com/github/RocioRiv/prueba/blob/main/colab/14_google_colab.ipynb\" target=\"_parent\"><img src=\"https://colab.research.google.com/assets/colab-badge.svg\" alt=\"Open In Colab\"/></a>"
      ]
    },
    {
      "cell_type": "markdown",
      "metadata": {
        "id": "pQBTFbibtOVC"
      },
      "source": [
        "# Introducción al uso de Google Colab"
      ]
    },
    {
      "cell_type": "markdown",
      "metadata": {
        "id": "tqlk01keXaC6"
      },
      "source": [
        "## Edición de texto\n"
      ]
    },
    {
      "cell_type": "markdown",
      "metadata": {
        "id": "xMKwzRv0SPcB"
      },
      "source": [
        "***hola***\n",
        "\n",
        "\n",
        "---\n",
        "\n",
        "\n",
        "\n",
        "1.   Elemento de la lista\n",
        "\n",
        "---\n",
        "\n",
        "\n",
        "\n",
        "*   Elemento de la lista\n",
        "\n",
        "---\n",
        "\n",
        "\n",
        "*   Elemento de la lista\n",
        "\n",
        "\n",
        "2.   Elemento de la lista\n",
        "\n",
        "---\n",
        "\n",
        "\n",
        "\n",
        "\n",
        "\n"
      ]
    },
    {
      "cell_type": "code",
      "metadata": {
        "id": "L64mxvIUSOME"
      },
      "source": [
        ""
      ],
      "execution_count": null,
      "outputs": []
    },
    {
      "cell_type": "markdown",
      "metadata": {
        "id": "gcDCB123wG5d"
      },
      "source": [
        "## Instalar otras librerías Python con Pip"
      ]
    },
    {
      "cell_type": "code",
      "metadata": {
        "id": "t04xiXU5wHw5"
      },
      "source": [
        "!pip install astropy"
      ],
      "execution_count": null,
      "outputs": []
    },
    {
      "cell_type": "markdown",
      "metadata": {
        "id": "JW0G8rN78ePH"
      },
      "source": [
        "## Carga de Datos"
      ]
    },
    {
      "cell_type": "markdown",
      "metadata": {
        "id": "Srkg2P1k8k7v"
      },
      "source": [
        "### Carga de archivos locales"
      ]
    },
    {
      "cell_type": "code",
      "metadata": {
        "id": "LD0uhv7FxNIq"
      },
      "source": [
        "from google.colab import files\n",
        "uploaded = files.upload()"
      ],
      "execution_count": null,
      "outputs": []
    },
    {
      "cell_type": "markdown",
      "metadata": {
        "id": "Yp-aRCL4SqCR"
      },
      "source": [
        "#### Leeremos el archivo"
      ]
    },
    {
      "cell_type": "code",
      "metadata": {
        "id": "UtESlhb1SQnc"
      },
      "source": [
        "import pandas as pd"
      ],
      "execution_count": null,
      "outputs": []
    },
    {
      "cell_type": "code",
      "metadata": {
        "id": "yqu6vuz-SoYo"
      },
      "source": [
        "data=pd.read_csv('clima.csv')\n",
        "data.head()"
      ],
      "execution_count": null,
      "outputs": []
    },
    {
      "cell_type": "markdown",
      "metadata": {
        "id": "4BR2QZtyti6o"
      },
      "source": [
        "### Enlazar con Google Drive"
      ]
    },
    {
      "cell_type": "markdown",
      "metadata": {
        "id": "p-g-GaWXyANC"
      },
      "source": [
        "Este es el código para que puedas autorizar la conexión entre google collab y google drive.\n",
        "\n",
        "Luego de ejecutarlo, te aparecerá un enlace al cual debes dar click y te dará un un código que debes copiar y pegar en una caja que te aparecerá, con esto das la autorización.\n",
        "\n",
        "Luego solo queda que hagas actualizar en el tab de archivos y veras tu unidad montada y lista para utilizarse."
      ]
    },
    {
      "cell_type": "code",
      "metadata": {
        "id": "YVHlH2-_qy4r"
      },
      "source": [
        "from google.colab import drive\n",
        "drive.mount('/content/drive/')"
      ],
      "execution_count": null,
      "outputs": []
    },
    {
      "cell_type": "code",
      "metadata": {
        "id": "7iQZ10PMd9hl"
      },
      "source": [
        "!ls /content/drive/My\\ Drive/"
      ],
      "execution_count": null,
      "outputs": []
    },
    {
      "cell_type": "code",
      "metadata": {
        "id": "yCtWvqODYPDU"
      },
      "source": [
        "data2=pd.read_csv('/content/drive/My Drive/sample_data/01_enero.csv')\n",
        "data2.head()"
      ],
      "execution_count": null,
      "outputs": []
    },
    {
      "cell_type": "markdown",
      "metadata": {
        "id": "3TjTtVDWvySq"
      },
      "source": [
        "### Descargar datos desde la web"
      ]
    },
    {
      "cell_type": "code",
      "metadata": {
        "id": "3Q_PauJbvzO3"
      },
      "source": [
        "!wget https://github.com/jbagnato/machine-learning/raw/master/sportimages.zip"
      ],
      "execution_count": null,
      "outputs": []
    },
    {
      "cell_type": "code",
      "metadata": {
        "id": "8md9Uymqv_5E"
      },
      "source": [
        "!unzip -uq '/content/sportimages.zip' -d '.'"
      ],
      "execution_count": null,
      "outputs": []
    },
    {
      "cell_type": "markdown",
      "metadata": {
        "id": "tQGjVKkdKJ96"
      },
      "source": [
        "## Mostrar dataframes como tablas interactivas\n"
      ]
    },
    {
      "cell_type": "code",
      "metadata": {
        "id": "at4f47MSKFHC"
      },
      "source": [
        "%load_ext google.colab.data_table"
      ],
      "execution_count": null,
      "outputs": []
    },
    {
      "cell_type": "code",
      "metadata": {
        "id": "jHtuQ_uRKFGb"
      },
      "source": [
        "data"
      ],
      "execution_count": null,
      "outputs": []
    },
    {
      "cell_type": "code",
      "metadata": {
        "id": "HqKeKc54KFF7"
      },
      "source": [
        "%unload_ext google.colab.data_table"
      ],
      "execution_count": null,
      "outputs": []
    },
    {
      "cell_type": "markdown",
      "metadata": {
        "id": "u1ca8g1VxMhN"
      },
      "source": [
        "Upload local files"
      ]
    },
    {
      "cell_type": "markdown",
      "metadata": {
        "id": "4tCDumEwxR5b"
      },
      "source": [
        "## Correr un script"
      ]
    },
    {
      "cell_type": "code",
      "metadata": {
        "id": "AZY4ETC6ybD9"
      },
      "source": [
        "!python3 /content/drive/My\\ Drive/sample_data/code.py"
      ],
      "execution_count": null,
      "outputs": []
    },
    {
      "cell_type": "markdown",
      "metadata": {
        "id": "z5p4fPEKyi27"
      },
      "source": [
        "## Guardar datos"
      ]
    },
    {
      "cell_type": "code",
      "metadata": {
        "id": "v6B3Y_rkyin4"
      },
      "source": [
        "from google.colab import files\n",
        "data.to_csv('clima2.csv')\n",
        "files.download('clima2.csv')"
      ],
      "execution_count": null,
      "outputs": []
    }
  ]
}